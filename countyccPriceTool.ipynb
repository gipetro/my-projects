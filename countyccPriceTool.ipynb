{
 "cells": [
  {
   "cell_type": "code",
   "execution_count": 27,
   "id": "984d3759-a628-4685-8b86-8c5ab80c9fd4",
   "metadata": {},
   "outputs": [],
   "source": [
    "deliveryDict = {'Absecon': 185, 'Alloway': 120, 'Atco': 135, 'Atlantic City': 210, 'Audubon': 100, 'Audubon Park': 100, 'Avalon': 175,\n",
    "                'Barrington': 100, 'Bass River Township': 200, 'Bellmawr': 100, 'Berlin': 100, 'Berlin Township': 100,\n",
    "                'Beverly': 160, 'Blackwood': 70, 'Blue Anchor': 110, 'Bordentown': 170, 'Bordentown Township': 170, 'Bridgeton': 160,\n",
    "                'Brigatine': 210, 'Brooklawn': 90, 'Buena': 105, 'Buena Vista': 185, 'Burlington': 160, 'Burlington Township': 160,\n",
    "                'Camden': 210, 'Cape May': 200, 'Cape May Courthouse': 200, 'Cape May Point': 210, 'Carneys Point': 135, 'Cherry Hill': 135,\n",
    "                'Chesilhurst': 110, 'Chesterfield Township': 170, 'Cinnaminson Township': 140, 'Clayton': 70, 'Clarksboro': 100, 'Clementon': 90,\n",
    "                'Collingswood': 100, 'Commercial Township': 155, 'Corbin City': 190, 'Deerfield Township': 90, 'Delanco': 135, 'Delran': 150,\n",
    "                'Dennis': 170, 'Deptford': 90, 'Downe Township': 155, 'East Greenwich Township': 90, 'Eastampton': 160, 'Edgewater Park': 160,\n",
    "                'Egg Harbor City': 190, 'Egg Harbor Township': 190, 'Elk Township': 70, 'Elmer': 95, 'Elsinboro': 150, 'Estell Manor': 190,\n",
    "                'Evesham': 150, 'Fairfield Township': 160, 'Fieldsboro': 165, 'Florence Township': 160, 'Folsom': 185, 'Franklin Township': 70,\n",
    "                'Galloway': 185, 'Gibbsboro': 100, 'Gibbstown': 90, 'Glassboro': 80, 'Glendora': 95, 'Gloucester City': 95, 'Gloucester Township': 80,\n",
    "                'Greenwich Township': 160, 'Haddon Heights': 90, 'Haddon Township': 105, 'Haddonfield': 105, 'Hainesport': 160,\n",
    "                'Hamilton Township': 185, 'Hammonton': 185, 'Harrison Township': 105, 'Hi-Nella': 90, 'Hopewell Township': 160,\n",
    "                'Laurel Springs': 90, 'Lawnside': 95, 'Lawrence Township': 160, 'Lindenwold': 100, 'Linwood': 185, 'Logan Township': 105,\n",
    "                'Longwood': 210, 'Lower': 197.5, 'Lower Alloways Creek': 190, 'Lumberton': 160, 'Magnolia': 90, 'Mannington': 110,\n",
    "                'Mansfield': 165, 'Mantua Township': 80, 'Maple Shade': 110, 'Margate': 210, 'Marlton': 170, 'Maurice River': 160,\n",
    "                'Medford': 160, 'Medford Lakes': 160, 'Medford Township': 160, 'Merchantville': 110, 'Mickleton': 100, 'Middle': 170,\n",
    "                'Millville': 80, 'Monroeville': 90, 'Moorestown': 160, 'Mount Ephraim': 90, 'Mount Holly': 135, 'Mount Laurel': 150,\n",
    "                'Mount Royal': 100, 'Mullica Hill': 100, 'Mullica Township': 185, 'National Park': 90, 'New Hanover': 160, 'Newfield': 90,\n",
    "                'North Hanover': 210, 'North Wildwood': 200, 'Northfield': 190, 'Oaklyn': 90, 'Ocean City': 210, 'Oldmans': 105, 'Palmyra': 135,\n",
    "                'Paulsboro': 90, 'Pedricktown': 105, 'Pemberton': 160, 'Penns Grove': 135, 'Pennsauken Township': 110, 'Pennsville': 150,\n",
    "                'Pilesgrove': 105, 'Pine Hill': 95, 'Pine Valley': 95, 'Pitman': 90, 'Pittsgrove': 120, 'Pleasantville': 190, 'Port Republic': 200,\n",
    "                'Quinton': 120, 'Riverside': 150, 'Riverton': 150, 'Runnemede': 95, 'Salem': 125, 'Sea Isle': 160, 'Sewell': 70, 'Shamong': 150,\n",
    "                'Shiloh': 160, 'Sicklerville': 100, 'Somerdale': 90, 'Somers Point': 195, 'South Harrison': 90, 'Southampton': 150, 'Springfield': 165,\n",
    "                'Stone Harbor': 175, 'Stow Creek Township': 160, 'Stratford': 90, 'Swedesboro': 90, 'Tabernacle': 150, 'Tavistock': 105,\n",
    "                'Tickerton': 190, 'Upper': 165, 'Upper Deerfield Township': 155, 'Upper Pittsgrove': 110, 'Ventnor City': 210, 'Vincetown': 150,\n",
    "                'Vineland': 80, 'Voorhees Township': 100, 'Washington Township': 70, 'Waterford Township': 110, 'Wenonah': 80, 'West Cape May': 210,\n",
    "                'West Deptford': 105, 'West Wildwood': 190, 'Westampton Township': 155, 'Westville': 105, 'Weymouth Township': 190, 'Wildwood': 190,\n",
    "                'Wildwood Crest': 190, 'Williamstown': 100, 'Willingboro': 160, 'Winslow Township': 110, 'Woodbine': 170, 'Woodbury': 90,\n",
    "                'Woodbury Heights': 85, 'Woodland Township': 185, 'Woodlynne': 105, 'Woodstown': 105}\n",
    "\n",
    "matDict = {'Aged Bark Mulch': 52, 'Cedar Mulch': 52.5, 'Black Dyed Mulch': 27, 'Brown Dyed Mulch': 27, 'Red Dyed Mulch': 36,\n",
    "           'Premium Root Mulch': 22, 'Premium Hardwood': 19, 'Playground Mulch': 24, 'Virgin Woodchips': 12, 'Top Soil': 26,\n",
    "           'Compost': 19, 'Fill Dirt': 15, 'DGA Stone': 26, '3/4\" River Rock': 70, '1.5\" x 3\" River Rock': 95, '3\" x 5\" River Rock': 95,\n",
    "           '3/4\" Red Driveway Stone': 50, '3/4\" Grey Driveway Stone': 50, 'Modified Stone 2A': 38, 'Stone Dust Screenings': 38,\n",
    "           'Pea Gravel': 54, 'Sand': 28}"
   ]
  },
  {
   "cell_type": "code",
   "execution_count": 35,
   "id": "7c325cbc-75f3-470b-975e-d8b13264193f",
   "metadata": {},
   "outputs": [],
   "source": [
    "def priceCalc(mat: str, qt: int, town: str):\n",
    "    matRate, delPrice, tax = matDict[mat], deliveryDict[town], 0.06625\n",
    "\n",
    "    #Adjusting price per unit for bulk discounts\n",
    "    if((mat == 'Black Dyed Mulch') | (mat == 'Brown Dyed Mulch')):\n",
    "        if qt > 19: matRate -= 6\n",
    "        elif qt > 4: matRate -= 3\n",
    "    elif(mat == 'Fill Dirt'):\n",
    "        if qt > 19: matRate -= 5\n",
    "        elif qt > 4: matRate -= 3\n",
    "    elif((mat == 'Aged Bark Mulch') | (mat == 'Cedar Mulch') | (mat == 'Red Dyed Mulch') | (mat == 'Premium Root Mulch') | (mat == 'Premium Hardwood') |\n",
    "        (mat == 'PlaygroundMulch') | (mat == 'Top Soil') | (mat == 'Compost')):\n",
    "        if qt > 19: matRate -= 4\n",
    "        elif qt > 4: matRate -= 2\n",
    "\n",
    "    #Adjusting delivery price if larger truck\n",
    "    if qt > 7:\n",
    "        if((mat == 'Top Soil') | (mat == 'Premium Root Mulch')): delPrice *= 2\n",
    "        elif qt > 8:\n",
    "            if((mat == 'DGA Stone') | (mat == '3/4\" River Rock') | (mat == '1.5\" x 3\" River Rock') | (mat == '3\" x 5\" River Rock') |\n",
    "               (mat == '3/4\" Red Driveway Stone') | (mat == '3/4\" Grey Driveway Stone') | (mat == 'Modified Stone 2A') |\n",
    "               (mat == 'Stone Dust Screenings') | (mat == 'Pea Gravel') | (mat == 'Sand')): delPrice *= 2\n",
    "            elif qt > 12: delPrice *= 2\n",
    "\n",
    "    #User alert if large load, typical max is 23 units\n",
    "    if qt > 20: print('Delivery of this quantity may require multiple truckloads.\\n')\n",
    "\n",
    "    matPrice = matRate * qt\n",
    "    taxPrice = (matPrice + delPrice) * tax\n",
    "    total = matPrice + delPrice + tax\n",
    "\n",
    "    print(f'Material price of ${matRate:0.2f} for {qt} units of {mat} - ${matPrice:0.2f}\\n')\n",
    "    print(f'Delivery price to {town}- ${delPrice:0.2f}\\n')\n",
    "    print(f'Tax cost - ${taxPrice:0.2f}\\n\\n')\n",
    "    print(f'TOTAL PRICE - ${total:0.2f}')"
   ]
  },
  {
   "cell_type": "code",
   "execution_count": 39,
   "id": "e78cdf17-22ef-43aa-9d1a-f9b7be8a6d2b",
   "metadata": {},
   "outputs": [
    {
     "name": "stdout",
     "output_type": "stream",
     "text": [
      "Material price of $24.00 for 7 units of Top Soil - $168.00\n",
      "\n",
      "Delivery price to Wenonah- $80.00\n",
      "\n",
      "Tax cost - $16.43\n",
      "\n",
      "\n",
      "TOTAL PRICE - $248.07\n"
     ]
    }
   ],
   "source": [
    "priceCalc('Top Soil', 7, 'Wenonah')"
   ]
  },
  {
   "cell_type": "code",
   "execution_count": 41,
   "id": "c628cbff-d4f0-4c18-be52-916a69111356",
   "metadata": {},
   "outputs": [
    {
     "name": "stdout",
     "output_type": "stream",
     "text": [
      "Material price of $70.00 for 20 units of 3/4\" River Rock - $1400.00\n",
      "\n",
      "Delivery price to Sewell- $140.00\n",
      "\n",
      "Tax cost - $102.03\n",
      "\n",
      "\n",
      "TOTAL PRICE - $1540.07\n"
     ]
    }
   ],
   "source": [
    "priceCalc('3/4\" River Rock', 20, 'Sewell')"
   ]
  },
  {
   "cell_type": "code",
   "execution_count": 43,
   "id": "b0a0efc6-6171-4b90-8c27-8df85790f53d",
   "metadata": {},
   "outputs": [
    {
     "name": "stdout",
     "output_type": "stream",
     "text": [
      "Delivery of this quantity may require multiple truckloads.\n",
      "\n",
      "Material price of $10.00 for 23 units of Fill Dirt - $230.00\n",
      "\n",
      "Delivery price to Vineland- $160.00\n",
      "\n",
      "Tax cost - $25.84\n",
      "\n",
      "\n",
      "TOTAL PRICE - $390.07\n"
     ]
    }
   ],
   "source": [
    "priceCalc('Fill Dirt', 23, 'Vineland')"
   ]
  }
 ],
 "metadata": {
  "kernelspec": {
   "display_name": "Python 3 (ipykernel)",
   "language": "python",
   "name": "python3"
  },
  "language_info": {
   "codemirror_mode": {
    "name": "ipython",
    "version": 3
   },
   "file_extension": ".py",
   "mimetype": "text/x-python",
   "name": "python",
   "nbconvert_exporter": "python",
   "pygments_lexer": "ipython3",
   "version": "3.11.7"
  }
 },
 "nbformat": 4,
 "nbformat_minor": 5
}
